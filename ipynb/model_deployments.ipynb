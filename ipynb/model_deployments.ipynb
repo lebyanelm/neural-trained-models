{
 "cells": [
  {
   "cell_type": "code",
   "execution_count": 1,
   "metadata": {},
   "outputs": [],
   "source": [
    "import datetime"
   ]
  },
  {
   "cell_type": "code",
   "execution_count": 2,
   "metadata": {},
   "outputs": [],
   "source": [
    "MODEL_NAME = \"all_leagues\"\n",
    "MODEL_VERSION = 1.0\n",
    "MODEL_TYPE = \"fulltime_win_outcome\""
   ]
  },
  {
   "cell_type": "code",
   "execution_count": 6,
   "metadata": {},
   "outputs": [
    {
     "name": "stdout",
     "output_type": "stream",
     "text": [
      "[main 4421179] updates: premier_league-v1.0-win_outcome: bot commit - 21-58-2024_11:58:22\n",
      " 1 file changed, 13 insertions(+), 7 deletions(-)\n",
      "Enumerating objects: 7, done.\n",
      "Counting objects: 100% (7/7), done.\n",
      "Delta compression using up to 2 threads\n",
      "Compressing objects: 100% (4/4), done.\n",
      "Writing objects: 100% (4/4), 814 bytes | 814.00 KiB/s, done.\n",
      "Total 4 (delta 3), reused 0 (delta 0), pack-reused 0\n",
      "remote: Resolving deltas: 100% (3/3), completed with 3 local objects.\u001b[K\n",
      "To https://github.com/lebyanelm/neural-trained-models.git\n",
      "   40b787a..4421179  main -> main\n"
     ]
    }
   ],
   "source": [
    "# UPDATING THE GITHUB OF THE DATASETS\n",
    "MODEL_TIME = datetime.datetime.now().strftime(\"%d-%M-%Y_%T\")\n",
    "!git add .\n",
    "!git commit -m \"updates: {MODEL_NAME}-{MODEL_VERSION}-v{MODEL_TYPE}: bot commit - {MODEL_TIME}\"\n",
    "!git push"
   ]
  }
 ],
 "metadata": {
  "kernelspec": {
   "display_name": ".venv",
   "language": "python",
   "name": "python3"
  },
  "language_info": {
   "codemirror_mode": {
    "name": "ipython",
    "version": 3
   },
   "file_extension": ".py",
   "mimetype": "text/x-python",
   "name": "python",
   "nbconvert_exporter": "python",
   "pygments_lexer": "ipython3",
   "version": "3.10.12"
  }
 },
 "nbformat": 4,
 "nbformat_minor": 2
}
