{
 "cells": [
  {
   "cell_type": "code",
   "execution_count": 9,
   "metadata": {},
   "outputs": [],
   "source": [
    "import datetime"
   ]
  },
  {
   "cell_type": "code",
   "execution_count": 1,
   "metadata": {},
   "outputs": [],
   "source": [
    "MODEL_NAME = \"premier_league\"\n",
    "MODEL_VERSION = \"v1.0\"\n",
    "MODEL_TYPE = \"win_outcome\""
   ]
  },
  {
   "cell_type": "code",
   "execution_count": 13,
   "metadata": {},
   "outputs": [
    {
     "name": "stdout",
     "output_type": "stream",
     "text": [
      "[main daa361b] updates: premier_league-v1.0-win_outcome: bot commit - 21-35-2024_11:35:06\n",
      " 1 file changed, 8 insertions(+), 8 deletions(-)\n",
      "Enumerating objects: 7, done.\n",
      "Counting objects: 100% (7/7), done.\n",
      "Delta compression using up to 2 threads\n",
      "Compressing objects: 100% (4/4), done.\n",
      "Writing objects: 100% (4/4), 605 bytes | 605.00 KiB/s, done.\n",
      "Total 4 (delta 3), reused 0 (delta 0), pack-reused 0\n",
      "remote: Resolving deltas: 100% (3/3), completed with 3 local objects.\u001b[K\n",
      "To https://github.com/lebyanelm/neural-trained-models.git\n",
      "   f0e2dd7..daa361b  main -> main\n"
     ]
    }
   ],
   "source": [
    "# UPDATING THE GITHUB OF THE DATASETS\n",
    "MODEL_TIME = datetime.datetime.now().strftime(\"%d-%M-%Y_%T\")\n",
    "!git add -A\n",
    "!git commit -m \"updates: {MODEL_NAME}-{MODEL_VERSION}-{MODEL_TYPE}: bot commit - {MODEL_TIME}\"\n",
    "!git push"
   ]
  }
 ],
 "metadata": {
  "kernelspec": {
   "display_name": ".venv",
   "language": "python",
   "name": "python3"
  },
  "language_info": {
   "codemirror_mode": {
    "name": "ipython",
    "version": 3
   },
   "file_extension": ".py",
   "mimetype": "text/x-python",
   "name": "python",
   "nbconvert_exporter": "python",
   "pygments_lexer": "ipython3",
   "version": "3.10.12"
  }
 },
 "nbformat": 4,
 "nbformat_minor": 2
}
