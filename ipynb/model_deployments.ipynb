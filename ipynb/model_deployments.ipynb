{
 "cells": [
  {
   "cell_type": "code",
   "execution_count": 1,
   "metadata": {},
   "outputs": [],
   "source": [
    "MODEL_NAME = \"premier_league\"\n",
    "MODEL_VERSION = \"v1.0\"\n",
    "MODEL_TYPE = \"win_outcome\""
   ]
  },
  {
   "cell_type": "code",
   "execution_count": 2,
   "metadata": {},
   "outputs": [
    {
     "name": "stdout",
     "output_type": "stream",
     "text": [
      "[main c9f739d] updates: premier_league-v1.0-win_outcome: bot commit\n",
      " 9 files changed, 666 insertions(+), 4721 deletions(-)\n",
      " create mode 100644 boto3_cloudflare.env\n",
      " rewrite ipynb/model_deployments.ipynb (98%)\n",
      " create mode 100644 ipynb/model_training.ipynb\n",
      " delete mode 100644 models/eng_prem_league-v1.0-trained.tflite\n",
      " create mode 100644 models/models-registry.json\n",
      " create mode 100644 models/premier_league-v1.0-win_outcome-transformer.joblib\n",
      " create mode 100644 models/premier_league-v1.0-win_outcome.joblib\n",
      " delete mode 100644 models/registry.json\n",
      "fatal: unable to access 'https://github.com/lebyanelm/neural-trained-models.git/': Could not resolve host: github.com\n"
     ]
    }
   ],
   "source": [
    "# UPDATING THE GITHUB OF THE DATASETS\n",
    "!git add -A\n",
    "!git commit -m \"updates: {MODEL_NAME}-{MODEL_VERSION}-{MODEL_TYPE}: bot commit\"\n",
    "!git push"
   ]
  }
 ],
 "metadata": {
  "kernelspec": {
   "display_name": ".venv",
   "language": "python",
   "name": "python3"
  },
  "language_info": {
   "codemirror_mode": {
    "name": "ipython",
    "version": 3
   },
   "file_extension": ".py",
   "mimetype": "text/x-python",
   "name": "python",
   "nbconvert_exporter": "python",
   "pygments_lexer": "ipython3",
   "version": "3.10.12"
  }
 },
 "nbformat": 4,
 "nbformat_minor": 2
}
