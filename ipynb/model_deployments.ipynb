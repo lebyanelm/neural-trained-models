{
 "cells": [
  {
   "cell_type": "code",
   "execution_count": 1,
   "metadata": {},
   "outputs": [],
   "source": [
    "import datetime"
   ]
  },
  {
   "cell_type": "code",
   "execution_count": 3,
   "metadata": {},
   "outputs": [],
   "source": [
    "MODEL_NAME = \"all_leagues\"\n",
    "MODEL_VERSION = 1.0\n",
    "MODEL_TYPE = \"fulltime_win_outcome\""
   ]
  },
  {
   "cell_type": "code",
   "execution_count": 8,
   "metadata": {},
   "outputs": [
    {
     "name": "stdout",
     "output_type": "stream",
     "text": [
      "[main 02ed6f2] updates: all_leagues_fulltime_win_outcome-v1.0: bot commit - 23-19-2024_07:19:39\n",
      " 3 files changed, 12285 insertions(+)\n",
      " create mode 100644 relative_datasets/cleaned/all_leagues_fulltime_win_outcome-v1.0-test-set.csv\n",
      " create mode 100644 relative_datasets/cleaned/all_leagues_fulltime_win_outcome-v1.0-train-set.csv\n",
      " create mode 100644 relative_datasets/raw/all_leagues-v1.0.csv\n"
     ]
    }
   ],
   "source": [
    "# UPDATING THE GITHUB OF THE DATASETS\n",
    "MODEL_TIME = datetime.datetime.now().strftime(\"%d-%M-%Y_%T\")\n",
    "!git add -A\n",
    "!git commit -m \"updates: {MODEL_NAME}_{MODEL_TYPE}-v{MODEL_VERSION}: bot commit - {MODEL_TIME}\"\n",
    "!git push"
   ]
  }
 ],
 "metadata": {
  "kernelspec": {
   "display_name": ".venv",
   "language": "python",
   "name": "python3"
  },
  "language_info": {
   "codemirror_mode": {
    "name": "ipython",
    "version": 3
   },
   "file_extension": ".py",
   "mimetype": "text/x-python",
   "name": "python",
   "nbconvert_exporter": "python",
   "pygments_lexer": "ipython3",
   "version": "3.10.12"
  }
 },
 "nbformat": 4,
 "nbformat_minor": 2
}
