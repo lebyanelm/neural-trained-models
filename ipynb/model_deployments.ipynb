{
 "cells": [
  {
   "cell_type": "code",
   "execution_count": 3,
   "metadata": {},
   "outputs": [],
   "source": [
    "MODEL_NAME = \"premier_league\"\n",
    "MODEL_VERSION = \"v1.0\"\n",
    "MODEL_TYPE = \"win_outcome\""
   ]
  },
  {
   "cell_type": "code",
   "execution_count": null,
   "metadata": {},
   "outputs": [
    {
     "name": "stdout",
     "output_type": "stream",
     "text": [
      "[main 15598e9] updates: eng_prem_league-v1.0: bot commit\n",
      " 3 files changed, 19 insertions(+), 10 deletions(-)\n",
      " create mode 100644 relative_datasets/cleaned/mapping_labels_bank.json\n",
      "Enumerating objects: 14, done.\n",
      "Counting objects: 100% (14/14), done.\n",
      "Delta compression using up to 2 threads\n",
      "Compressing objects: 100% (8/8), done.\n",
      "Writing objects: 100% (8/8), 1.03 KiB | 1.03 MiB/s, done.\n",
      "Total 8 (delta 3), reused 0 (delta 0), pack-reused 0\n",
      "remote: Resolving deltas: 100% (3/3), completed with 3 local objects.\u001b[K\n",
      "To https://github.com/lebyanelm/neural-trained-models.git\n",
      "   13805c1..15598e9  main -> main\n"
     ]
    }
   ],
   "source": [
    "# UPDATING THE GITHUB OF THE DATASETS\n",
    "!git add -A\n",
    "!git commit -m \"updates: {MODEL_NAME}-{MODEL_VERSION}-{MODEL_TYPE}: bot commit\"\n",
    "!git push"
   ]
  }
 ],
 "metadata": {
  "kernelspec": {
   "display_name": ".venv",
   "language": "python",
   "name": "python3"
  },
  "language_info": {
   "codemirror_mode": {
    "name": "ipython",
    "version": 3
   },
   "file_extension": ".py",
   "mimetype": "text/x-python",
   "name": "python",
   "nbconvert_exporter": "python",
   "pygments_lexer": "ipython3",
   "version": "3.10.12"
  }
 },
 "nbformat": 4,
 "nbformat_minor": 2
}
