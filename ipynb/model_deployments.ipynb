{
 "cells": [
  {
   "cell_type": "code",
   "execution_count": null,
   "metadata": {},
   "outputs": [],
   "source": [
    "import time"
   ]
  },
  {
   "cell_type": "code",
   "execution_count": 1,
   "metadata": {},
   "outputs": [],
   "source": [
    "MODEL_NAME = \"premier_league\"\n",
    "MODEL_VERSION = \"v1.0\"\n",
    "MODEL_TYPE = \"win_outcome\""
   ]
  },
  {
   "cell_type": "code",
   "execution_count": 3,
   "metadata": {},
   "outputs": [
    {
     "name": "stdout",
     "output_type": "stream",
     "text": [
      "[main 501bf33] updates: premier_league-v1.0-win_outcome: bot commit\n",
      " 1 file changed, 13 insertions(+), 14 deletions(-)\n",
      "Enumerating objects: 20, done.\n",
      "Counting objects: 100% (20/20), done.\n",
      "Delta compression using up to 2 threads\n",
      "Compressing objects: 100% (15/15), done.\n",
      "Writing objects: 100% (15/15), 8.98 KiB | 2.24 MiB/s, done.\n",
      "Total 15 (delta 5), reused 0 (delta 0), pack-reused 0\n",
      "remote: Resolving deltas: 100% (5/5), completed with 2 local objects.\u001b[K\n",
      "To https://github.com/lebyanelm/neural-trained-models.git\n",
      "   ad7fa25..501bf33  main -> main\n"
     ]
    }
   ],
   "source": [
    "# UPDATING THE GITHUB OF THE DATASETS\n",
    "!git add -A\n",
    "!git commit -m \"updates: {MODEL_NAME}-{MODEL_VERSION}-{MODEL_TYPE}: bot commit - {time.time()}\"\n",
    "!git push"
   ]
  }
 ],
 "metadata": {
  "kernelspec": {
   "display_name": ".venv",
   "language": "python",
   "name": "python3"
  },
  "language_info": {
   "codemirror_mode": {
    "name": "ipython",
    "version": 3
   },
   "file_extension": ".py",
   "mimetype": "text/x-python",
   "name": "python",
   "nbconvert_exporter": "python",
   "pygments_lexer": "ipython3",
   "version": "3.10.12"
  }
 },
 "nbformat": 4,
 "nbformat_minor": 2
}
