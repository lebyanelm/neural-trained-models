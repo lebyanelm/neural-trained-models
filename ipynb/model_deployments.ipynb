{
 "cells": [
  {
   "cell_type": "code",
   "execution_count": 1,
   "metadata": {},
   "outputs": [],
   "source": [
    "import datetime"
   ]
  },
  {
   "cell_type": "code",
   "execution_count": 2,
   "metadata": {},
   "outputs": [],
   "source": [
    "MODEL_NAME = \"fulltime_win_outcome\"\n",
    "MODEL_VERSION = 1.0"
   ]
  },
  {
   "cell_type": "code",
   "execution_count": 3,
   "metadata": {},
   "outputs": [
    {
     "name": "stdout",
     "output_type": "stream",
     "text": [
      "[main c3dfbc9] updates: fulltime_win_outcome_v1.0: bot commit - 27-46-2024_08:46:00\n",
      " 6 files changed, 30525 insertions(+), 52 deletions(-)\n",
      " rewrite models/models-registry.json (85%)\n",
      " create mode 100644 relative_datasets/cleaned/fulltime_win_outcome_v1.0-test-set.csv\n",
      " create mode 100644 relative_datasets/cleaned/fulltime_win_outcome_v1.0-train-set.csv\n",
      " create mode 100644 relative_datasets/raw/odds_training.csv\n",
      "Enumerating objects: 22, done.\n",
      "Counting objects: 100% (22/22), done.\n",
      "Delta compression using up to 2 threads\n",
      "Compressing objects: 100% (13/13), done.\n",
      "Writing objects: 100% (13/13), 282.70 KiB | 1.08 MiB/s, done.\n",
      "Total 13 (delta 8), reused 0 (delta 0), pack-reused 0\n",
      "remote: Resolving deltas: 100% (8/8), completed with 7 local objects.\u001b[K\n",
      "To https://github.com/lebyanelm/neural-trained-models.git\n",
      "   3805b17..c3dfbc9  main -> main\n"
     ]
    }
   ],
   "source": [
    "# UPDATING THE GITHUB OF THE DATASETS\n",
    "MODEL_TIME = datetime.datetime.now().strftime(\"%d-%M-%Y_%T\")\n",
    "!git add -A\n",
    "!git commit -m \"updates: {MODEL_NAME}_v{MODEL_VERSION}: bot commit - {MODEL_TIME}\"\n",
    "!git push"
   ]
  }
 ],
 "metadata": {
  "kernelspec": {
   "display_name": ".venv",
   "language": "python",
   "name": "python3"
  },
  "language_info": {
   "codemirror_mode": {
    "name": "ipython",
    "version": 3
   },
   "file_extension": ".py",
   "mimetype": "text/x-python",
   "name": "python",
   "nbconvert_exporter": "python",
   "pygments_lexer": "ipython3",
   "version": "3.10.12"
  }
 },
 "nbformat": 4,
 "nbformat_minor": 2
}
